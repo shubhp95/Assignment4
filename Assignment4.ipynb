{
 "cells": [
  {
   "cell_type": "code",
   "execution_count": 1,
   "id": "8dda5c2b",
   "metadata": {},
   "outputs": [
    {
     "name": "stdout",
     "output_type": "stream",
     "text": [
      "[1, 3, 5, 7, 9, 11, 13, 15, 17, 19, 21, 23, 25]\n"
     ]
    }
   ],
   "source": [
    "#Q1.\n",
    "\n",
    "# Def is the keyword used to create a function.\n",
    "\n",
    "def get_odd_numbers(start, end):\n",
    "\n",
    "    odd_numbers = []\n",
    "    for num in range(start, end + 1):\n",
    "        if num % 2 == 1:\n",
    "            odd_numbers.append(num)\n",
    "    return odd_numbers\n",
    "\n",
    "print(get_odd_numbers(1, 25))  \n"
   ]
  },
  {
   "cell_type": "code",
   "execution_count": 2,
   "id": "82a910f4",
   "metadata": {},
   "outputs": [
    {
     "name": "stdout",
     "output_type": "stream",
     "text": [
      "15\n",
      "Hello,  Alice from New York! How are you doing at 30?\n"
     ]
    }
   ],
   "source": [
    "#Q2.\n",
    "\n",
    "\n",
    "#*args (Non-Keyword Arguments):\n",
    "#The special syntax *args is used to pass a variable number of non-keyworded arguments to a function.\n",
    "\n",
    "def sum_all(*numbers):\n",
    "  \n",
    "\n",
    "    total = 0\n",
    "    for num in numbers:\n",
    "        total += num\n",
    "    return total\n",
    "\n",
    "result = sum_all(1, 2, 3, 4, 5)\n",
    "print(result)\n",
    "\n",
    "#**kwargs (Keyword Arguments):\n",
    "#The special syntax **kwargs is used to pass a keyworded, variable-length argument list to a function.\n",
    "\n",
    "\n",
    "def greet_person(**person_info):\n",
    "   \n",
    "    name = person_info.get(\"name\", \"friend\")  \n",
    "    age = person_info.get(\"age\", 0) \n",
    "    title = person_info.get(\"title\", \"\")  \n",
    "    location = person_info.get(\"location\", \"\")  \n",
    "\n",
    "    greeting = f\"Hello, {title} {name} from {location}!\"\n",
    "    if age > 0:\n",
    "        greeting += f\" How are you doing at {age}?\"\n",
    "    return greeting\n",
    "\n",
    "message = greet_person(name=\"Alice\", age=30, location=\"New York\")  \n",
    "print(message)  "
   ]
  },
  {
   "cell_type": "code",
   "execution_count": 3,
   "id": "ecf2f653",
   "metadata": {},
   "outputs": [
    {
     "name": "stdout",
     "output_type": "stream",
     "text": [
      "2\n",
      "4\n",
      "6\n",
      "8\n",
      "10\n"
     ]
    }
   ],
   "source": [
    "#Q3.\n",
    "\n",
    "'''An iterator in Python is an object that allows us to traverse over iterable objects like \n",
    "lists, tuples, dictionaries, and sets.'''\n",
    "\n",
    "\n",
    "my_list = [2, 4, 6, 8, 10, 12, 14, 16, 18, 20]\n",
    "my_iterator = iter(my_list)\n",
    "\n",
    "\n",
    "for _ in range(5):\n",
    "    print(next(my_iterator))\n"
   ]
  },
  {
   "cell_type": "code",
   "execution_count": 5,
   "id": "bac9d86c",
   "metadata": {},
   "outputs": [
    {
     "name": "stdout",
     "output_type": "stream",
     "text": [
      "1\n",
      "2\n",
      "3\n"
     ]
    }
   ],
   "source": [
    "#Q4.\n",
    "\n",
    "\n",
    "#A generator function in Python is a special type of function that produces an iterator on demand\n",
    "\n",
    "def simple_generator():\n",
    "    yield 1\n",
    "    yield 2\n",
    "    yield 3\n",
    "\n",
    "for value in simple_generator():\n",
    "    print(value)\n",
    "\n",
    "   \n",
    "\n"
   ]
  },
  {
   "cell_type": "code",
   "execution_count": 6,
   "id": "25033581",
   "metadata": {},
   "outputs": [
    {
     "name": "stdout",
     "output_type": "stream",
     "text": [
      "[2, 3, 4, 5, 7, 11, 13, 17, 19, 23, 29, 31, 37, 41, 43, 47, 53, 59, 61, 67]\n"
     ]
    }
   ],
   "source": [
    "#Q5.\n",
    "\n",
    "\n",
    "def primes():\n",
    "    yield 2\n",
    "    primes_list = []\n",
    "    for i in range(3, 1000):\n",
    "        is_prime = True\n",
    "        for prime in primes_list:\n",
    "            if i % prime == 0:\n",
    "                is_prime = False\n",
    "                break\n",
    "        if is_prime:\n",
    "            primes_list.append(i)\n",
    "            yield i\n",
    "\n",
    "\n",
    "prime_gen = primes()\n",
    "first_20_primes = [next(prime_gen) for _ in range(20)]\n",
    "print(first_20_primes)\n"
   ]
  },
  {
   "cell_type": "code",
   "execution_count": 9,
   "id": "da8050ea",
   "metadata": {},
   "outputs": [
    {
     "name": "stdout",
     "output_type": "stream",
     "text": [
      "How many terms? 10\n",
      "Fibonacci sequence:\n",
      "0\n",
      "1\n",
      "1\n",
      "2\n",
      "3\n",
      "5\n",
      "8\n",
      "13\n",
      "21\n",
      "34\n"
     ]
    }
   ],
   "source": [
    "#Q6.\n",
    "\n",
    "\n",
    "\n",
    "\n",
    "nterms = int(input(\"How many terms? \"))\n",
    "\n",
    "\n",
    "n1, n2 = 0, 1\n",
    "count = 0\n",
    "\n",
    "\n",
    "if nterms <= 0:\n",
    "   print(\"Please enter a positive integer\")\n",
    "\n",
    "elif nterms == 1:\n",
    "   print(\"Fibonacci sequence upto\",nterms,\":\")\n",
    "   print(n1)\n",
    "\n",
    "else:\n",
    "   print(\"Fibonacci sequence:\")\n",
    "   while count < nterms:\n",
    "       print(n1)\n",
    "       nth = n1 + n2\n",
    "       n1 = n2\n",
    "       n2 = nth\n",
    "       count += 1\n"
   ]
  },
  {
   "cell_type": "code",
   "execution_count": 10,
   "id": "6cb27532",
   "metadata": {},
   "outputs": [
    {
     "name": "stdout",
     "output_type": "stream",
     "text": [
      "['p', 'w', 's', 'k', 'i', 'l', 'l', 's']\n"
     ]
    }
   ],
   "source": [
    "#Q7.\n",
    "\n",
    "string = \"pwskills\"\n",
    "characters = [char for char in string]\n",
    "print(characters) \n"
   ]
  },
  {
   "cell_type": "code",
   "execution_count": 15,
   "id": "5a6d9ebc",
   "metadata": {},
   "outputs": [
    {
     "name": "stdout",
     "output_type": "stream",
     "text": [
      "1441\n",
      "1441 is a palindrome.\n"
     ]
    }
   ],
   "source": [
    "#Q8.\n",
    "\n",
    "\n",
    "def is_palindrome(number):\n",
    "   \n",
    "\n",
    "    original_number = number\n",
    "    reversed_number = 0\n",
    "    while number > 0:\n",
    "        digit = number % 10\n",
    "        reversed_number = reversed_number * 10 + digit\n",
    "        number //= 10\n",
    "    return original_number == reversed_number\n",
    "\n",
    "number = int(input())\n",
    "if is_palindrome(number):\n",
    "    print(f\"{number} is a palindrome.\")\n",
    "else:\n",
    "    print(f\"{number} is not a palindrome.\")\n"
   ]
  },
  {
   "cell_type": "code",
   "execution_count": 16,
   "id": "4fc14ee5",
   "metadata": {},
   "outputs": [
    {
     "name": "stdout",
     "output_type": "stream",
     "text": [
      "[1, 3, 5, 7, 9, 11, 13, 15, 17, 19, 21, 23, 25, 27, 29, 31, 33, 35, 37, 39, 41, 43, 45, 47, 49, 51, 53, 55, 57, 59, 61, 63, 65, 67, 69, 71, 73, 75, 77, 79, 81, 83, 85, 87, 89, 91, 93, 95, 97, 99]\n"
     ]
    }
   ],
   "source": [
    "#Q9.\n",
    "\n",
    "\n",
    "odd_numbers = [num for num in range(1, 101) if num % 2 != 0]\n",
    "print(odd_numbers)"
   ]
  },
  {
   "cell_type": "code",
   "execution_count": null,
   "id": "2dffe58a",
   "metadata": {},
   "outputs": [],
   "source": []
  }
 ],
 "metadata": {
  "kernelspec": {
   "display_name": "Python 3",
   "language": "python",
   "name": "python3"
  },
  "language_info": {
   "codemirror_mode": {
    "name": "ipython",
    "version": 3
   },
   "file_extension": ".py",
   "mimetype": "text/x-python",
   "name": "python",
   "nbconvert_exporter": "python",
   "pygments_lexer": "ipython3",
   "version": "3.8.8"
  }
 },
 "nbformat": 4,
 "nbformat_minor": 5
}
